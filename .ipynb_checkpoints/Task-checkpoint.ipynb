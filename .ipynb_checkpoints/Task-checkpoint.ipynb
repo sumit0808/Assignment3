{
 "cells": [
  {
   "cell_type": "code",
   "execution_count": 1,
   "id": "68691f71",
   "metadata": {},
   "outputs": [],
   "source": [
    "#Q1: Write a python program to scrape data for “Data Analyst” Job position in\n",
    "#“Bangalore” location. You have to scrape the job-title, job-location, company_name,\n",
    "#experience_required. You have to scrape first 10 jobs data."
   ]
  },
  {
   "cell_type": "code",
   "execution_count": 2,
   "id": "2f35bb92",
   "metadata": {},
   "outputs": [
    {
     "name": "stdout",
     "output_type": "stream",
     "text": [
      "Requirement already satisfied: selenium in c:\\users\\hp\\documents\\python practice\\venv\\lib\\site-packages (3.141.0)\n",
      "Requirement already satisfied: urllib3 in c:\\users\\hp\\documents\\python practice\\venv\\lib\\site-packages (from selenium) (1.26.6)\n"
     ]
    }
   ],
   "source": [
    "!pip install selenium"
   ]
  },
  {
   "cell_type": "code",
   "execution_count": 38,
   "id": "6cba580d",
   "metadata": {},
   "outputs": [],
   "source": [
    "import time\n",
    "import selenium\n",
    "import pandas as pd\n",
    "from selenium import webdriver"
   ]
  },
  {
   "cell_type": "code",
   "execution_count": 4,
   "id": "197a483e",
   "metadata": {},
   "outputs": [],
   "source": [
    "driver=webdriver.Chrome(\"chromedriver.exe\")"
   ]
  },
  {
   "cell_type": "code",
   "execution_count": 5,
   "id": "d8eda284",
   "metadata": {},
   "outputs": [],
   "source": [
    "url='https://naukri.com'\n",
    "driver.get(url)\n",
    "time.sleep(3)"
   ]
  },
  {
   "cell_type": "code",
   "execution_count": 6,
   "id": "6ec997e5",
   "metadata": {},
   "outputs": [],
   "source": [
    "search_job=driver.find_element_by_xpath('//*[@id=\"qsb-keyword-sugg\"]')\n",
    "search_job.clear()\n",
    "search_job.send_keys('data analyst')\n",
    "time.sleep(1)\n",
    "\n",
    "location = driver.find_element_by_xpath('//*[@id=\"qsb-location-sugg\"]')\n",
    "location.clear()\n",
    "location.send_keys(\"bangalore\")\n",
    "time.sleep(1)\n",
    "\n",
    "search_btn=driver.find_element_by_xpath('//*[@id=\"root\"]/div[3]/div[2]/section/div/form/div[3]/button')\n",
    "search_btn.click()\n",
    "time.sleep(1)\n"
   ]
  },
  {
   "cell_type": "code",
   "execution_count": 7,
   "id": "7a7933d4",
   "metadata": {},
   "outputs": [
    {
     "name": "stdout",
     "output_type": "stream",
     "text": [
      "Data Analyst\n",
      "20\n"
     ]
    },
    {
     "data": {
      "text/plain": [
       "['1-6 Yrs',\n",
       " '2-6 Yrs',\n",
       " '1-3 Yrs',\n",
       " '1-4 Yrs',\n",
       " '2-4 Yrs',\n",
       " '1-2 Yrs',\n",
       " '1-5 Yrs',\n",
       " '2-4 Yrs',\n",
       " '2-5 Yrs',\n",
       " '2-5 Yrs']"
      ]
     },
     "execution_count": 7,
     "metadata": {},
     "output_type": "execute_result"
    }
   ],
   "source": [
    "\n",
    "titles_job = driver.find_elements_by_xpath(\"//a[@class='title fw500 ellipsis']\")\n",
    "titles_job\n",
    "titles_location=driver.find_elements_by_xpath('//li[@class=\"fleft grey-text br2 placeHolderLi location\"]')\n",
    "titles_location\n",
    "titles_company=driver.find_elements_by_xpath('//a[@class=\"subTitle ellipsis fleft\"]')\n",
    "titles_company\n",
    "titles_experience=driver.find_elements_by_xpath('//li[@class=\"fleft grey-text br2 placeHolderLi experience\"]')\n",
    "titles_experience \n",
    "\n",
    "print(titles_job[0].text)\n",
    "print(len(titles_job))\n",
    "\n",
    "\n",
    "job_titles=[]\n",
    "job_location=[]\n",
    "company_name=[]\n",
    "experience_req=[]\n",
    "for i in range(10):\n",
    "    \n",
    "    job_titles.append(titles_job[i].text)\n",
    "    job_location.append(titles_location[i].text)\n",
    "    company_name.append(titles_company[i].text)\n",
    "    experience_req.append(titles_experience[i].text)\n",
    "job_titles\n",
    "job_location                                             \n",
    "company_name\n",
    "experience_req"
   ]
  },
  {
   "cell_type": "code",
   "execution_count": 8,
   "id": "82808c1a",
   "metadata": {},
   "outputs": [
    {
     "data": {
      "text/html": [
       "<div>\n",
       "<style scoped>\n",
       "    .dataframe tbody tr th:only-of-type {\n",
       "        vertical-align: middle;\n",
       "    }\n",
       "\n",
       "    .dataframe tbody tr th {\n",
       "        vertical-align: top;\n",
       "    }\n",
       "\n",
       "    .dataframe thead th {\n",
       "        text-align: right;\n",
       "    }\n",
       "</style>\n",
       "<table border=\"1\" class=\"dataframe\">\n",
       "  <thead>\n",
       "    <tr style=\"text-align: right;\">\n",
       "      <th></th>\n",
       "      <th>titles_job</th>\n",
       "      <th>titles_location</th>\n",
       "      <th>titles_company</th>\n",
       "      <th>titles_experience</th>\n",
       "    </tr>\n",
       "  </thead>\n",
       "  <tbody>\n",
       "    <tr>\n",
       "      <th>0</th>\n",
       "      <td>Data Analyst</td>\n",
       "      <td>Bangalore/Bengaluru</td>\n",
       "      <td>Innovsource Services Private Limited</td>\n",
       "      <td>1-6 Yrs</td>\n",
       "    </tr>\n",
       "    <tr>\n",
       "      <th>1</th>\n",
       "      <td>Process Data Analyst</td>\n",
       "      <td>Bangalore/Bengaluru</td>\n",
       "      <td>Hitachi ABB Power Grids</td>\n",
       "      <td>2-6 Yrs</td>\n",
       "    </tr>\n",
       "    <tr>\n",
       "      <th>2</th>\n",
       "      <td>Data Analyst</td>\n",
       "      <td>Bangalore/Bengaluru</td>\n",
       "      <td>Bion</td>\n",
       "      <td>1-3 Yrs</td>\n",
       "    </tr>\n",
       "    <tr>\n",
       "      <th>3</th>\n",
       "      <td>Product/Data Analyst - SQL/Tableau/Qlikview</td>\n",
       "      <td>Bangalore/Bengaluru</td>\n",
       "      <td>Connexions</td>\n",
       "      <td>1-4 Yrs</td>\n",
       "    </tr>\n",
       "    <tr>\n",
       "      <th>4</th>\n",
       "      <td>Data Analyst</td>\n",
       "      <td>Bangalore/Bengaluru</td>\n",
       "      <td>Rapido -bike taxi</td>\n",
       "      <td>2-4 Yrs</td>\n",
       "    </tr>\n",
       "    <tr>\n",
       "      <th>5</th>\n",
       "      <td>Data Analyst</td>\n",
       "      <td>Bangalore/Bengaluru</td>\n",
       "      <td>ICF Next</td>\n",
       "      <td>1-2 Yrs</td>\n",
       "    </tr>\n",
       "    <tr>\n",
       "      <th>6</th>\n",
       "      <td>Data Analyst II - Customer Support</td>\n",
       "      <td>Bangalore/Bengaluru</td>\n",
       "      <td>VIMEO TECHNOLOGIES PRIVATE LIMITED</td>\n",
       "      <td>1-5 Yrs</td>\n",
       "    </tr>\n",
       "    <tr>\n",
       "      <th>7</th>\n",
       "      <td>Data Analyst</td>\n",
       "      <td>Bangalore/Bengaluru</td>\n",
       "      <td>Rapido -bike taxi</td>\n",
       "      <td>2-4 Yrs</td>\n",
       "    </tr>\n",
       "    <tr>\n",
       "      <th>8</th>\n",
       "      <td>Data Analyst</td>\n",
       "      <td>Bangalore/Bengaluru</td>\n",
       "      <td>SORTING HAT TECHNOLOGIES PVT LTD</td>\n",
       "      <td>2-5 Yrs</td>\n",
       "    </tr>\n",
       "    <tr>\n",
       "      <th>9</th>\n",
       "      <td>Data Analyst _ 2-5 Years _ Bangalore</td>\n",
       "      <td>Bangalore/Bengaluru</td>\n",
       "      <td>Teamware Solutions ( A division of Quantum Lea...</td>\n",
       "      <td>2-5 Yrs</td>\n",
       "    </tr>\n",
       "  </tbody>\n",
       "</table>\n",
       "</div>"
      ],
      "text/plain": [
       "                                    titles_job      titles_location  \\\n",
       "0                                 Data Analyst  Bangalore/Bengaluru   \n",
       "1                         Process Data Analyst  Bangalore/Bengaluru   \n",
       "2                                 Data Analyst  Bangalore/Bengaluru   \n",
       "3  Product/Data Analyst - SQL/Tableau/Qlikview  Bangalore/Bengaluru   \n",
       "4                                 Data Analyst  Bangalore/Bengaluru   \n",
       "5                                 Data Analyst  Bangalore/Bengaluru   \n",
       "6           Data Analyst II - Customer Support  Bangalore/Bengaluru   \n",
       "7                                 Data Analyst  Bangalore/Bengaluru   \n",
       "8                                 Data Analyst  Bangalore/Bengaluru   \n",
       "9         Data Analyst _ 2-5 Years _ Bangalore  Bangalore/Bengaluru   \n",
       "\n",
       "                                      titles_company titles_experience  \n",
       "0               Innovsource Services Private Limited           1-6 Yrs  \n",
       "1                            Hitachi ABB Power Grids           2-6 Yrs  \n",
       "2                                               Bion           1-3 Yrs  \n",
       "3                                         Connexions           1-4 Yrs  \n",
       "4                                  Rapido -bike taxi           2-4 Yrs  \n",
       "5                                           ICF Next           1-2 Yrs  \n",
       "6                 VIMEO TECHNOLOGIES PRIVATE LIMITED           1-5 Yrs  \n",
       "7                                  Rapido -bike taxi           2-4 Yrs  \n",
       "8                   SORTING HAT TECHNOLOGIES PVT LTD           2-5 Yrs  \n",
       "9  Teamware Solutions ( A division of Quantum Lea...           2-5 Yrs  "
      ]
     },
     "execution_count": 8,
     "metadata": {},
     "output_type": "execute_result"
    }
   ],
   "source": [
    "import pandas as pd\n",
    "data=pd.DataFrame({})\n",
    "data['titles_job']=job_titles\n",
    "data['titles_location']=job_location\n",
    "data['titles_company']=company_name\n",
    "data['titles_experience']=experience_req\n",
    "data"
   ]
  },
  {
   "cell_type": "code",
   "execution_count": 9,
   "id": "37880bcc",
   "metadata": {},
   "outputs": [],
   "source": [
    "#Q2: Write a python program to scrape data for “Data Scientist” Job position in\n",
    "#“Bangalore” location. You have to scrape the job-title, job-location,\n",
    "#company_name, full job-description. You have to scrape first 10 jobs data"
   ]
  },
  {
   "cell_type": "code",
   "execution_count": 46,
   "id": "5a644f49",
   "metadata": {},
   "outputs": [],
   "source": [
    "driver=webdriver.Chrome(\"chromedriver.exe\")\n",
    "url='https://naukri.com'\n",
    "driver.get(url)\n",
    "time.sleep(3)\n",
    "\n",
    "search_job=driver.find_element_by_xpath('//*[@id=\"qsb-keyword-sugg\"]')\n",
    "search_job.send_keys(\"Data Scientist\")\n",
    "time.sleep(1)\n",
    "search_location=driver.find_element_by_xpath('//*[@id=\"qsb-location-sugg\"]')\n",
    "search_location.send_keys(\"bangalore\")\n",
    "time.sleep(1)\n",
    "search_btn=driver.find_element_by_xpath('//*[@id=\"root\"]/div[3]/div[2]/section/div/form/div[3]/button')\n",
    "search_btn.click()\n",
    "time.sleep(1)"
   ]
  },
  {
   "cell_type": "code",
   "execution_count": 47,
   "id": "027939bc",
   "metadata": {},
   "outputs": [],
   "source": [
    "titles_jobs=driver.find_elements_by_xpath('//a[@class=\"title fw500 ellipsis\"]')\n",
    "titles_jobs\n",
    "time.sleep(1)\n",
    "titles_location=driver.find_elements_by_xpath('//li[@class=\"fleft grey-text br2 placeHolderLi location\"]')\n",
    "titles_location\n",
    "time.sleep(1)\n",
    "titles_name=driver.find_elements_by_xpath('//div[@class=\"mt-7 companyInfo subheading lh16\"]')\n",
    "titles_name\n",
    "time.sleep(1)"
   ]
  },
  {
   "cell_type": "code",
   "execution_count": 51,
   "id": "53613a21",
   "metadata": {},
   "outputs": [
    {
     "data": {
      "text/plain": [
       "['https://www.naukri.com/job-listings-data-scientist-cognizant-technology-solutions-india-pvt-ltd-chennai-bangalore-bengaluru-10-to-12-years-090821904407?src=jobsearchDesk&sid=16285698076553447&xp=1&px=1',\n",
       " 'https://www.naukri.com/job-listings-data-scientist-oracle-india-pvt-ltd-bangalore-bengaluru-6-to-10-years-190521008276?src=jobsearchDesk&sid=16285698076553447&xp=2&px=1',\n",
       " 'https://www.naukri.com/job-listings-senior-data-scientist-philips-india-limited-bangalore-bengaluru-8-to-10-years-060821501599?src=jobsearchDesk&sid=16285698076553447&xp=3&px=1',\n",
       " 'https://www.naukri.com/job-listings-senior-data-scientist-datamatics-global-services-ltd-bangalore-bengaluru-8-to-13-years-040821003517?src=jobsearchDesk&sid=16285698076553447&xp=4&px=1',\n",
       " 'https://www.naukri.com/job-listings-data-scientist-farmwiseai-private-limited-hyderabad-secunderabad-chennai-bangalore-bengaluru-5-to-10-years-090821002358?src=jobsearchDesk&sid=16285698076553447&xp=5&px=1',\n",
       " 'https://www.naukri.com/job-listings-data-scientist-ctd-techs-chennai-bangalore-bengaluru-2-to-6-years-090821500316?src=jobsearchDesk&sid=16285698076553447&xp=6&px=1',\n",
       " 'https://www.naukri.com/job-listings-senior-data-scientist-bangalore-reputed-mnc-evolve-technologies-and-services-private-limited-bangalore-bengaluru-5-to-10-years-090821002421?src=jobsearchDesk&sid=16285698076553447&xp=7&px=1',\n",
       " 'https://www.naukri.com/job-listings-data-scientist-advanced-analytics-ibm-india-pvt-limited-bangalore-bengaluru-5-to-10-years-060821907733?src=jobsearchDesk&sid=16285698076553447&xp=8&px=1',\n",
       " 'https://www.naukri.com/job-listings-senior-data-scientist-symbiosis-international-w-l-l-bangalore-bengaluru-10-to-15-years-050821004331?src=jobsearchDesk&sid=16285698076553447&xp=9&px=1',\n",
       " 'https://www.naukri.com/job-listings-senior-data-scientist-ibm-india-pvt-limited-bangalore-bengaluru-5-to-10-years-260721907182?src=jobsearchDesk&sid=16285698076553447&xp=10&px=1',\n",
       " 'https://www.naukri.com/job-listings-senior-data-scientist-publicis-groupe-bangalore-bengaluru-2-to-5-years-030821501259?src=jobsearchDesk&sid=16285698076553447&xp=11&px=1',\n",
       " 'https://www.naukri.com/job-listings-senior-data-scientist-bidgely-technologies-private-limited-bangalore-bengaluru-4-to-6-years-030821500043?src=jobsearchDesk&sid=16285698076553447&xp=12&px=1',\n",
       " 'https://www.naukri.com/job-listings-senior-data-scientist-goals-101-data-solutions-pvt-ltd-new-delhi-bangalore-bengaluru-delhi-ncr-4-to-8-years-030821000870?src=jobsearchDesk&sid=16285698076553447&xp=13&px=1',\n",
       " 'https://www.naukri.com/job-listings-data-scientist-mcafee-software-india-pvt-ltd-bangalore-bengaluru-4-to-8-years-050821501145?src=jobsearchDesk&sid=16285698076553447&xp=14&px=1',\n",
       " 'https://www.naukri.com/job-listings-data-scientist-permanent-role-onward-technologies-limited-hyderabad-secunderabad-chennai-bangalore-bengaluru-6-to-11-years-030821002780?src=jobsearchDesk&sid=16285698076553447&xp=15&px=1',\n",
       " 'https://www.naukri.com/job-listings-data-scientist-fractal-analytics-gurgaon-gurugram-bangalore-bengaluru-mumbai-all-areas-3-to-5-years-090821009867?src=jobsearchDesk&sid=16285698076553447&xp=16&px=1',\n",
       " 'https://www.naukri.com/job-listings-senior-data-scientist-randstad-india-pvt-ltd-bangalore-bengaluru-4-to-9-years-280721000424?src=jobsearchDesk&sid=16285698076553447&xp=17&px=1',\n",
       " 'https://www.naukri.com/job-listings-sr-data-engineer-data-scientist-huron-bangalore-bengaluru-6-to-7-years-260721501013?src=jobsearchDesk&sid=16285698076553447&xp=18&px=1',\n",
       " 'https://www.naukri.com/job-listings-data-engineers-data-scientist-and-sap-teamware-solutions-bangalore-bengaluru-7-to-10-years-300721500677?src=jobsearchDesk&sid=16285698076553447&xp=19&px=1',\n",
       " 'https://www.naukri.com/job-listings-python-data-scientist-mindtree-limited-bangalore-bengaluru-3-to-5-years-040821500207?src=jobsearchDesk&sid=16285698076553447&xp=20&px=1']"
      ]
     },
     "execution_count": 51,
     "metadata": {},
     "output_type": "execute_result"
    }
   ],
   "source": [
    "urls=[]\n",
    "for i in driver.find_elements_by_xpath('//a[@class=\"title fw500 ellipsis\"]'):\n",
    "    urls.append(i.get_attribute(\"href\"))\n",
    "urls"
   ]
  },
  {
   "cell_type": "code",
   "execution_count": null,
   "id": "a8529fb7",
   "metadata": {},
   "outputs": [],
   "source": [
    "job_description=[]"
   ]
  },
  {
   "cell_type": "code",
   "execution_count": 45,
   "id": "2d85db4e",
   "metadata": {},
   "outputs": [],
   "source": [
    "for i in urls[:10]:\n",
    "    driver.get(i)\n",
    "    time.sleep(1)\n",
    "    \n",
    "    try:\n",
    "        job_desc=driver.find_element_by_xpath(\"//section[@class='job-desc']\")\n",
    "        job_description.append(job_desc.text)\n",
    "    except:\n",
    "        job_description.append('-')\n",
    "                     "
   ]
  },
  {
   "cell_type": "code",
   "execution_count": 48,
   "id": "8169c6a6",
   "metadata": {},
   "outputs": [
    {
     "data": {
      "text/plain": [
       "[\"Job description\\nRoles and responsibilities \\nJob description\\n\\nSkill: SQL, Python, Business Analysis, Data Science;\\n\\nExp: 2-7 years;\\n\\nJob Description Ensuring quality in crowd sourcing model is the biggest challenge to solve for. Being the first data scientist of the company, you shall be responsible for building robust algorithms ensure quality, from scratch.Responsibilities- Develop models to derive maximum quality from crowd sourced data\\n\\nDerive insights and identify opportunities through the use of algorithmic, statistical, mining & visualisation techniques- Work closely with engineering to implement aforementioned models\\nRequired Candidate profile\\nRequirements\\n\\nBachelors or above in Mathematics, Statistics, CS or related fields.\\n\\nMin. 2 years experience with mathematical modelling, statistical analysis, machine learning, NLP- Must have implemented machine learning based solution which is being used in production\\n\\nProgramming proficiency, preferably with Python, R, SQL, Java and equivalents- Experience of working with relational and non-relational databasesWe're a fast growing startup, looking for talented and ambitious individuals who want to join us on this journey and build awesome things which can change the way work gets done. You shall get,- Complete Ownership, Flexible timings\\n\\nWe deal with millions of data points every day and we can assure you that you will have no dearth of data to work with in this job- Pay as per industry standards. Lucrative stock options.\\n\\nAn awesome office to work in and awesome people to work with- Weekend beer! Munchies on the house )\\nRoleData Analyst\\nIndustry TypeIT Services & Consulting\\nFunctional AreaAnalytics & Business Intelligence\\nEmployment TypeFull Time, Permanent\\nRole CategoryAnalytics & BI\\nEducation\\nUG :B.Tech/B.E. in Computers, B.Sc in Maths, Statistics, B.A in Statistics, Maths\\nPG :Any Postgraduate\\nDoctorate :Doctorate Not Required, Any Doctorate\\nKey Skills\\nData ScienceJavaRNLPAlgorithmsData ScientistMachine LearningStatistical AnalysisStatisticsPythonSQL\",\n",
       " \"Job description\\nWhat You'll Do :\\n\\n- Leverage data to perform intensive analysis across all areas of our business to catalyze product development\\n\\n- Design experiments and interpret the results to draw detailed and actionable conclusions\\n\\n- Generate and execute on ideas for exploratory analysis to shape future projects and provide recommendations for actions\\n\\n- Perform time-series analyses, hypothesis testing, and causal analyses to statistically assess relative impact and extract trends\\n\\n- Create models to enhance understanding of user behavior and predict future performance of cohorts\\n\\n- Create dashboards and reports to regularly communicate results and monitor key metrics\\n\\n- Present findings to senior management to guide business decisions\\n\\n- Collaborate with cross-functional teams across disciplines such as product, engineering, operations, and marketing\\n\\nRequired Candidate profile\\nWhat You'll Need :\\n\\n- 3-5 years of experience in a quantitative analysis role\\n\\n- BE/BS/MS in Physics, Economics, Applied Math, Statistics, Engineering, Computer Science, or other quantitative field (advanced degrees are a plus)\\n\\n- Comfortable writing code and contributing to a code base in Python or R\\n\\n- Proficient in writing and understanding complex SQL; experience working with large data sets\\n\\n- Advanced knowledge of experimentation and statistical methods\\n\\n- Ability to deliver on tight timelines and move quickly while maintaining attention to detail\\n\\n- Collaborate closely with cross-functional teams to execute on decisions\\n\\n- Self-driven and proactive with the ability to work in a self-guided manner\\n\\n- Excellent communication and organization skills\\nRoleData Analyst\\nIndustry TypeIT Services & Consulting\\nFunctional AreaAnalytics & Business Intelligence\\nEmployment TypeFull Time, Permanent\\nRole CategoryAnalytics & BI\\nEducation\\nUG :B.Tech/B.E. in Computers, B.Sc in Physics, Statistics\\nPG :MS/M.Sc(Science) in Physics, Computers, Statistics\\nDoctorate :Doctorate Not Required\\nKey Skills\\nData ScienceRData ScientistData Managementproduct developmentPythonSQL\",\n",
       " 'Job description\\nResponsibilities:\\n\\n- Work with stakeholders throughout the organization to identify opportunities for leveraging company data to drive business solutions.\\n\\n- Mine and analyze data from company databases to drive optimization and improvement\\n\\n- Assess the effectiveness and accuracy of new data sources and data gathering techniques.\\n\\n- Develop custom data models and algorithms to apply to data sets.\\n\\n- Use predictive modeling to increase and optimize customer experiences, revenue generation, ad targeting and other business outcomes.\\n\\n- Develop company A/B testing framework and test model quality.\\n\\n- Coordinate with different functional teams to implement models and monitor outcomes.\\n\\n- Develop processes and tools to monitor and analyze model performance and data accuracy\\n\\nRequired Candidate profile\\nQualifications & Experience:\\n\\n- PG / MBA with 2 to 5 Yrs Experience with strong problem solving skills with an emphasis on product development.\\n\\n- Experience using statistical computer languages (R, Python, SLQ, etc.) to manipulate data and draw insights from large data sets.\\n\\n- Experience working with and creating data architectures.\\n\\n- Knowledge of a variety of machine learning techniques (clustering, decision tree learning, artificial neural networks, etc.) and their real-world advantages/drawbacks.\\n\\n- Knowledge of advanced statistical techniques and concepts .\\nRoleData Analyst\\nIndustry TypeAnalytics / KPO / Research\\nFunctional AreaAnalytics & Business Intelligence\\nEmployment TypeFull Time, Permanent\\nRole CategoryAnalytics & BI\\nEducation\\nUG :Any Graduate\\nPG :MBA/PGDM in Any Specialization\\nDoctorate :Doctorate Not Required\\nKey Skills\\nData SciencePredictive ModelingNLPData ScientistArtificial IntelligenceData ManagementStatistical ModelingData ModelingMachine LearningPythonSQL',\n",
       " 'Job description\\nRoles and Responsibilities\\n- Implement data-driven solutions based on advanced ML and optimization algorithms to address business problems\\n\\n- Research, experiment, and innovate MLstatistical approaches in various application areas of interest and contribute to IP\\n\\n- Partner with engineering teams to build scalable, efficient, automated ML-based pipelines (trainingevaluationmonitoring)\\n\\n- Deploy, maintain, and debug MLdecision models in a production environment\\n\\n- Analyze and assess data to ensure high data quality and correctness of downstream processes\\n\\n- Communicate results to stakeholders and present datainsights to participate in and drive decision making.\\nRoleData Analyst\\nIndustry TypeIT Services & Consulting\\nFunctional AreaAnalytics & Business Intelligence\\nEmployment TypeFull Time, Permanent\\nRole CategoryAnalytics & BI\\nEducation\\nUG :B.Tech/B.E. in Any Specialization, B.Sc in Any Specialization, BCA in Computers\\nPG :Any Postgraduate\\nDoctorate :Doctorate Not Required\\nKey Skills\\nData ScienceData QualityData ScientistStatistical ModelingStatistical AnalystMachine Learning',\n",
       " 'Job description\\nResponsibilities :\\n\\n- Ability to work independently and with team members from different backgrounds.\\n\\n- Use effective text representations to transform natural language into useful features.\\n\\n- Find and implement the right algorithms and tools for NLP tasks.\\n\\n- Develop NLP models according to requirements.\\n\\n- Perform statistical analysis of results and refine models.\\n\\n- Remain updated in the rapidly changing field of machine learning.\\n\\n- Design and implement ML algorithms and models (especially deep learning models) through in-depth research.\\n\\n- and experiment with neural network models, parameter optimization, and optimization algorithms.\\n\\n- Research and experiment with neural network models, parameter optimization, and optimization algorithms.\\n\\n- Conduct research to advance the state of the art in deep learning and provide technical solutions for real world challenges in various scenario.\\n\\nRequirements :\\n\\n- Knowledge of programming languages like SQL, Python.\\n\\n- Strong mathematics skills (e.g. statistics)\\n\\n- Experience with common data science toolkits\\n\\n- Experience with machine learning and AI\\n\\n- Should have understanding of model deployment.\\nRoleData Analyst\\nIndustry TypeIT Services & Consulting\\nFunctional AreaAnalytics & Business Intelligence\\nEmployment TypeFull Time, Permanent\\nRole CategoryAnalytics & BI\\nEducation\\nUG :B.Sc in Any Specialization, BCA in Computers, B.Tech/B.E. in Any Specialization\\nPG :Any Postgraduate\\nDoctorate :Doctorate Not Required\\nKey Skills\\nData ScienceStatistical analysisNLPData ScientistArtificial IntelligenceMachine LearningPythonSQL',\n",
       " \"Job description\\nRoles and Responsibilities :\\n\\n- Apply advanced statistical and data mining techniques in order to derive patterns from the data\\n\\n- Generate actionable insights for business improvements\\n\\n- Analyze raw data: assessing quality, cleansing, structuring it for different analytical projects\\n\\n- Must have problem solving attitude\\n\\n- Develop solutions by using cutting edge AIML technology to solve business problems ranging from optimization of customer experiences to revenue generation and profit maximisation, and other business outcomes\\n\\n- Implement analytics solutions into company's Decision Platform contributing to shaping its tech architecture\\n\\n- Partner with Product and Engineering teams to design data-driven solutions for improving and optimizing product functionalities\\n\\n- Recommend & implement best practices around the application of predictive modelling\\n\\n- Work with stakeholders throughout the company to identify opportunities for leveraging company data to drive business solutions\\n\\n- Assess the effectiveness and accuracy of new data sources and data gathering techniques\\n\\nKey Skills Required :\\n\\n- 1-3 years of business experience including analytics, data mining andor predictive data modelling\\n\\n- Strong academic background around Machine Learning Computer Science Data Analytics and Statistics or related field (Bachelor's Degree required)\\n\\n- Advance exposure to key Machine learning algorithms (GBM, XGBoost, Random Forest, Neural networks, Bayesian methods, Deep learning, etc.)\\n\\n- Experience in deploying Machine Learning models in production systems\\n\\n- Hands on experience in handling large volume of numericaltextual data\\n\\n- Strong programming skills (R, Python, Java)\\n\\n- Experience in SQL and noSQL databases\\n\\n- Strong analytical skills: ability to make sense out of a variety of data and its relationapplicability to the specific business problem\\n\\n- Strong communication skills: ability to both formulateunderstand the business problem at hand as well as ability to discuss with non\\n-Data Science background stakeholders\\nRoleData Analyst\\nIndustry TypeIT Services & Consulting\\nFunctional AreaAnalytics & Business Intelligence\\nEmployment TypeFull Time, Permanent\\nRole CategoryAnalytics & BI\\nEducation\\nUG :B.Sc in Computers, Statistics, B.Tech/B.E. in Computers, BCA in Computers, B.A in Statistics\\nPG :Any Postgraduate\\nDoctorate :Doctorate Not Required\\nKey Skills\\nData SciencePredictive ModelingData ScientistData ManagementStatistical ModelingData MiningData AnalystData ModelingData AnalyticsMachine LearningPredictive Analytics\",\n",
       " 'Job description\\nRoles and Responsibilities\\n\\n\\n- Selecting features, building and optimizing classifiers using machine learning techniques\\n\\n- Data mining using state-of-the-art methods\\n\\n- Enhancing data collection procedures to include information that is relevant for building analytic systems\\n\\n- Processing, cleansing, and verifying the integrity of data used for analysis\\n\\n- Doing ad-hoc analysis and presenting results in a clear manner\\n\\n- Creating automated anomaly detection systems and constant tracking of its performance\\n\\nSkills Required :\\n\\n- Excellent understanding of machine learning techniques and algorithms, such as k-NN, Naive Bayes, SVM, Decision Forests, etc.\\n\\n- Experiences with one or more of the following is highly desirable: HPC/Parallelization, operationalizing ML models; cloud computing (e.g. Google Cloud, AWS, etc.); familiarity with ML frameworks such as Tensorflow, Theano, MXNet, etc\\n\\n- Good experience in a few of the following areas: deep neural networks, reinforcement learning, Markov Random Fields, Bayesian networks, semi-supervised learning, computer vision, image processing, signal processing, distributed computing, and/or numerical optimization\\n\\n- 2+ years of experience with computer vision and deep learning solutions, including image classification, object detection, segmentation, and equivalent computer vision-based vision tasks\\n\\n- Experience with common data science toolkits, such as R, Weka, NumPy, etc . Excellence in at least one of these is highly desirable\\n\\n- Proficiency in using query languages such as SQL, Hive, Pig\\n\\n- Good applied statistics skills, such as distributions, statistical testing, regression, etc.\\n\\n- Good scripting and programming skills\\n\\n- Data-oriented personality\\n\\n- B.Tech/M.Tech degree in from reputed institutes like IIT / NIT / BITS\\nRoleData Analyst\\nIndustry TypeIT Services & Consulting\\nFunctional AreaAnalytics & Business Intelligence\\nEmployment TypeFull Time, Permanent\\nRole CategoryAnalytics & BI\\nEducation\\nUG :B.Tech/B.E. in Any Specialization\\nPG :M.Tech in Any Specialization\\nDoctorate :Doctorate Not Required\\nKey Skills\\nHiveRCloud ComputingData ScientistComputer VisionMachine LearningDeep LearningSQLPig',\n",
       " 'Job description\\nRoles and Responsibilities\\nInteract with various business heads and function heads to get a detailed understanding of process flows and tracked metrics under their respective verticals\\nSynthesize and communicate main findings and conclusions through business review meetings in a way that these serve as helpful input for the leadership\\nIdeate and continuously refine comprehensive models and help construct dashboards and reports for various verticals\\nBuild comprehensive models to identify and track key levers of business performance\\nDesign visuals to effectively represent the data models and analyses to provide a clear structure for decision making\\nDrive adoption and deploy change management initiatives for higher usage of business analytics tools\\nDevelop statistical and machine-learning models towards estimation and classification of clinical variables.\\nDevelop computer vision algorithms on medical imaging data with image processing and deep learning/neural networks techniques towards image segmentation, image classification and 3D reconstruction.\\nDevelop NLP algorithms to classify and summarize structured/unstructured text data\\nThe candidate will interact with clinicians and other functional experts to develop a reasonable understanding of the underlying clinical/business concepts for the given problem domain. The candidate will then conceive, develop, deploy, validate and evaluate models to accurately reflect the underlying concept.\\n\\n\\n\\n\\n\\nRoleBusiness Analyst\\nIndustry TypeMedical Services / Hospital\\nFunctional AreaAnalytics & Business Intelligence\\nEmployment TypeFull Time, Permanent\\nRole CategoryAnalytics & BI\\nEducation\\nUG :Any Graduate\\nPG :Post Graduation Not Required\\nDoctorate :Doctorate Not Required\\nKey Skills\\nChange ManagementNLPAlgorithmsBusiness AnalyticsImage ProcessingNeural Networksdata scientistMedical ImagingComputer VisionDeep Learning',\n",
       " 'Job description\\nJob Role Responsibilities\\nWork with computational scientists, data scientists, engineers, software developers, and geoscientists across the globe to develop, deliver and apply computational tools, models, or software to support our business\\nEnhance proprietary computational models and tools to address evolving business needs\\nUse machine learning, pattern recognition, deep learning, statistical analysis and data visualizations along with domain knowledge and subject-specific models (Eg. physics-based) to solve science, engineering, commercial problems and provide business insights\\nDesign, build, and execute studies using proprietary or commercial tools to provide insights including calibrating models to field data and providing field optimization recommendations\\n\\n\\nJob Requirements\\nMasters degree from a recognized university in one of the following disciplines: Chemical Engineering, Mechanical Engineering or related disciplines with minimum GPA 7.0 (out of 10.0) and above\\nProfessional work experience in developing, applying, and analyzing physics-based models and/or data driven computational models and simulations.\\n2-7 years of applied computational work experience for candidates with a Masters degree.\\nAbility to understand, enhance and apply computational models\\nFamiliarity with general numerical analysis and methods for solving differential equations\\nExperience with developing, applying and validating physics-based or data-driven tools to model complex systems\\nExperience with application of optimization tools in Matlab/Python for engineering problems is a plus\\nFamiliarity with Statistical analysis, regression, classification is a plus\\nStrong engineering fundamentals\\nFamiliarity with Oil and Gas Industry is plus\\nAbility to formulate complex problems in a solvable way\\nSoftware Skills\\nCompetent to expert level programming experience\\nBackground in C/C++/Python or Matlab as well as Object oriented programming\\nPrior knowledge of commercial software development and/or experience in commercial software teams is a plus\\nSoftware testing and development practices (Agile, etc.) is a plus\\nStrong communication and interpersonal skill\\n\\nJob Segment: \\nDatabase, Scientific, Engineer, Testing, Mechanical Engineer, Engineering, Technology\\nRoleDesign Engineer\\nIndustry TypePower\\nFunctional AreaEngineering Design, R&D\\nEmployment TypeFull Time, Permanent\\nRole CategoryEngineering Design\\nEducation\\nUG :B.Tech/B.E. in Any Specialization\\nPG :Any Postgraduate\\nKey Skills\\nData ScienceData ScientistC + +Mechanical EngineeringChemical EngineeringMachine LearningDeep LearningPythonMatlabMechanical Engineer',\n",
       " 'Job description\\nYou:\\nYou are a data scientist who is passionate about producing data products and striving for excellence to serve customers with high quality technical solutions. You enjoy the work you are doing; continuously innovate, advance ideas to build better products and generate more insight. You thrive in an agile, fast-paced and highly collaborate team environment.\\nUs:\\nWe are a high-performing cross-functional team of developers, product managers, and designers. We are passionate about delivering elegant solutions to complex business problems and we have a proven track record of delivering successful applications that delight our customers.\\nWhat we want you to do:\\nUse predictive modeling, statistics, Machine Learning, Data Mining, and other data analysis techniques to collect, explore, and extract insights from structured and unstructured data\\nPerform deep dive analyses to understand and optimize the key levers of our growth ecosystems\\nApply statistics, modeling and ML to improve the efficiency of systems and relevance algorithms across growth Initiatives\\nAct as a thought partner to Campaign, Media, Web, Product, Go-To-Market and other teams\\nCollaborate with other Business Analytics teams and networks to utilize new sources of data, for the purpose of developing insights and applicability across markets\\nTranslate business problems into a data and analytics plan and execute, through exploratory descriptive analysis, feature engineering and/or machine learning techniques\\nLeverage machine learning and visualization to design tools that can explain customer composition changes or differences to enable actionable and timely insights\\nUse advanced statistical techniques to address marketing needs, including survival analysis, customer lifetime value modeling, and customer segmentation\\nBasic Qualifications:\\nAdvanced degree in Statistics, Economics, Business, or related quantitative field\\nAt least 2 years of excellent hands-on experience developing advanced predictive models to solve business problems\\nExperience programming in SQL, and Python or R (Python preferred)\\nExperience in data visualization, preferably with Tableau\\nExpertise in working with structured data; apply methods, technologies and techniques that address data architecture, integration and governance of data.\\nExperience in database concepts, data modelling; data integration including design and architecture\\nExperience with one or more of the following Machine Learning frameworks: TensorFlow, Scikit-Learn, or AWS Sage Maker\\nExpert ability in Univariate/Multivariate Statistics, Bayesian Statistics, or Simulation Modeling\\nStakeholder management skills and championing a data-driven culture\\nPreferred Qualifications:\\nUnderstanding of media and the statistical algorithms typically used in marketing analytics.\\nExperience deploying and maintaining machine learning models\\nExperience working in industries such as healthcare, retail, financial services, telecommunications and automotive (including in a client-facing consulting or advisory capacity)\\n\\n\\nRoleAnalytics Manager\\nIndustry TypeIT Services & Consulting\\nFunctional AreaAnalytics & Business Intelligence\\nEmployment TypeFull Time, Permanent\\nRole CategoryAnalytics & BI\\nEducation\\nUG :Any Graduate\\nKey Skills\\nPredictive ModelingTensorflowRCustomer SegmentationData AnalysisData AnalyticsMachine LearningScikit-LearnPythonSQL']"
      ]
     },
     "execution_count": 48,
     "metadata": {},
     "output_type": "execute_result"
    }
   ],
   "source": [
    "job_description"
   ]
  },
  {
   "cell_type": "code",
   "execution_count": null,
   "id": "732063c3",
   "metadata": {},
   "outputs": [],
   "source": [
    "import pandas as pd\n",
    "data=pd.DataFrame({})\n",
    "data['titles_job']=job_titles\n",
    "data['titles_location']=job_location\n",
    "data['titles_name']=company_name\n",
    "data['titles_experience']=experience_req\n",
    "data"
   ]
  },
  {
   "cell_type": "code",
   "execution_count": 14,
   "id": "3b7ebdb6",
   "metadata": {},
   "outputs": [],
   "source": [
    "# Q3: In this question you have to scrape data using the filters available on the\n",
    "# webpage as shown below:\n",
    "\n",
    "driver=webdriver.Chrome(\"chromedriver.exe\")\n",
    "url='https://naukri.com'\n",
    "driver.get(url)\n",
    "time.sleep(3)\n",
    "\n",
    "search_jobs=driver.find_element_by_xpath('//*[@id=\"qsb-keyword-sugg\"]')\n",
    "search_jobs.send_keys('data scientist')\n",
    "search_btn=driver.find_element_by_xpath('//*[@id=\"root\"]/div[3]/div[2]/section/div/form/div[3]')\n",
    "search_btn.click()"
   ]
  },
  {
   "cell_type": "code",
   "execution_count": 15,
   "id": "b3cfc2c2",
   "metadata": {},
   "outputs": [],
   "source": [
    "location_filter=driver.find_element_by_xpath('/html/body/div[1]/div[3]/div[2]/section[1]/div[2]/div[3]/div[2]/div[3]/label/i')\n",
    "location_filter.click()"
   ]
  },
  {
   "cell_type": "code",
   "execution_count": 16,
   "id": "ea58c29b",
   "metadata": {},
   "outputs": [],
   "source": [
    "salary_filter=driver.find_element_by_xpath('/html/body/div[1]/div[3]/div[2]/section[1]/div[2]/div[4]/div[2]/div[2]/label/i')\n",
    "salary_filter.click()"
   ]
  },
  {
   "cell_type": "code",
   "execution_count": 17,
   "id": "8034ab30",
   "metadata": {},
   "outputs": [
    {
     "data": {
      "text/html": [
       "<div>\n",
       "<style scoped>\n",
       "    .dataframe tbody tr th:only-of-type {\n",
       "        vertical-align: middle;\n",
       "    }\n",
       "\n",
       "    .dataframe tbody tr th {\n",
       "        vertical-align: top;\n",
       "    }\n",
       "\n",
       "    .dataframe thead th {\n",
       "        text-align: right;\n",
       "    }\n",
       "</style>\n",
       "<table border=\"1\" class=\"dataframe\">\n",
       "  <thead>\n",
       "    <tr style=\"text-align: right;\">\n",
       "      <th></th>\n",
       "      <th>titles_job</th>\n",
       "      <th>titles_location</th>\n",
       "      <th>titles_company</th>\n",
       "      <th>titles_experience</th>\n",
       "    </tr>\n",
       "  </thead>\n",
       "  <tbody>\n",
       "    <tr>\n",
       "      <th>0</th>\n",
       "      <td>Data Scientist Internship</td>\n",
       "      <td>New Delhi</td>\n",
       "      <td>iHackers Inc</td>\n",
       "      <td>0-1 Yrs</td>\n",
       "    </tr>\n",
       "    <tr>\n",
       "      <th>1</th>\n",
       "      <td>Data Scientist</td>\n",
       "      <td>Gurgaon/Gurugram</td>\n",
       "      <td>CBRE South Asia Pvt Ltd</td>\n",
       "      <td>2-4 Yrs</td>\n",
       "    </tr>\n",
       "    <tr>\n",
       "      <th>2</th>\n",
       "      <td>Data Scientist / Sr. Data Scientist</td>\n",
       "      <td>Noida, Pune, Mumbai (All Areas)</td>\n",
       "      <td>WEGARNER SOLUTIONS PRIVATE LIMITED</td>\n",
       "      <td>0-5 Yrs</td>\n",
       "    </tr>\n",
       "    <tr>\n",
       "      <th>3</th>\n",
       "      <td>Data Scientist / Data Analyst</td>\n",
       "      <td>Gurgaon/Gurugram</td>\n",
       "      <td>CARS24</td>\n",
       "      <td>1-5 Yrs</td>\n",
       "    </tr>\n",
       "    <tr>\n",
       "      <th>4</th>\n",
       "      <td>Only Fresher / Data Scientist / Data Analyst /...</td>\n",
       "      <td>Noida, Gurgaon/Gurugram, Delhi / NCR</td>\n",
       "      <td>GABA Consultancy services</td>\n",
       "      <td>0-0 Yrs</td>\n",
       "    </tr>\n",
       "    <tr>\n",
       "      <th>5</th>\n",
       "      <td>Senior Data Scientist - Noida</td>\n",
       "      <td>Noida</td>\n",
       "      <td>Optum Global Solutions (India) Private Limited</td>\n",
       "      <td>2-6 Yrs</td>\n",
       "    </tr>\n",
       "    <tr>\n",
       "      <th>6</th>\n",
       "      <td>Data Scientist</td>\n",
       "      <td>Noida(Sector-59 Noida)</td>\n",
       "      <td>R Systems International Ltd.</td>\n",
       "      <td>5-10 Yrs</td>\n",
       "    </tr>\n",
       "    <tr>\n",
       "      <th>7</th>\n",
       "      <td>Hiring Data Scientist Develope || IDS Infotech...</td>\n",
       "      <td>Chandigarh, Hyderabad/Secunderabad, Chennai, B...</td>\n",
       "      <td>IDS Infotech Ltd.</td>\n",
       "      <td>5-10 Yrs</td>\n",
       "    </tr>\n",
       "    <tr>\n",
       "      <th>8</th>\n",
       "      <td>Hiring Data Scientist Develope || IDS Infotech...</td>\n",
       "      <td>Chandigarh, Hyderabad/Secunderabad, Chennai, B...</td>\n",
       "      <td>IDS Infotech Ltd.</td>\n",
       "      <td>5-10 Yrs</td>\n",
       "    </tr>\n",
       "    <tr>\n",
       "      <th>9</th>\n",
       "      <td>Immediate Openings For DATA Scientist with 6 T...</td>\n",
       "      <td>Kolkata, Hyderabad/Secunderabad, Pune, Ahmedab...</td>\n",
       "      <td>Entune IT Consulting Private Limited</td>\n",
       "      <td>5-8 Yrs</td>\n",
       "    </tr>\n",
       "  </tbody>\n",
       "</table>\n",
       "</div>"
      ],
      "text/plain": [
       "                                          titles_job  \\\n",
       "0                          Data Scientist Internship   \n",
       "1                                     Data Scientist   \n",
       "2                Data Scientist / Sr. Data Scientist   \n",
       "3                      Data Scientist / Data Analyst   \n",
       "4  Only Fresher / Data Scientist / Data Analyst /...   \n",
       "5                      Senior Data Scientist - Noida   \n",
       "6                                     Data Scientist   \n",
       "7  Hiring Data Scientist Develope || IDS Infotech...   \n",
       "8  Hiring Data Scientist Develope || IDS Infotech...   \n",
       "9  Immediate Openings For DATA Scientist with 6 T...   \n",
       "\n",
       "                                     titles_location  \\\n",
       "0                                          New Delhi   \n",
       "1                                   Gurgaon/Gurugram   \n",
       "2                    Noida, Pune, Mumbai (All Areas)   \n",
       "3                                   Gurgaon/Gurugram   \n",
       "4               Noida, Gurgaon/Gurugram, Delhi / NCR   \n",
       "5                                              Noida   \n",
       "6                             Noida(Sector-59 Noida)   \n",
       "7  Chandigarh, Hyderabad/Secunderabad, Chennai, B...   \n",
       "8  Chandigarh, Hyderabad/Secunderabad, Chennai, B...   \n",
       "9  Kolkata, Hyderabad/Secunderabad, Pune, Ahmedab...   \n",
       "\n",
       "                                   titles_company titles_experience  \n",
       "0                                    iHackers Inc           0-1 Yrs  \n",
       "1                         CBRE South Asia Pvt Ltd           2-4 Yrs  \n",
       "2              WEGARNER SOLUTIONS PRIVATE LIMITED           0-5 Yrs  \n",
       "3                                          CARS24           1-5 Yrs  \n",
       "4                       GABA Consultancy services           0-0 Yrs  \n",
       "5  Optum Global Solutions (India) Private Limited           2-6 Yrs  \n",
       "6                    R Systems International Ltd.          5-10 Yrs  \n",
       "7                               IDS Infotech Ltd.          5-10 Yrs  \n",
       "8                               IDS Infotech Ltd.          5-10 Yrs  \n",
       "9            Entune IT Consulting Private Limited           5-8 Yrs  "
      ]
     },
     "execution_count": 17,
     "metadata": {},
     "output_type": "execute_result"
    }
   ],
   "source": [
    "\n",
    "titles_job = driver.find_elements_by_xpath(\"//a[@class='title fw500 ellipsis']\")\n",
    "titles_job\n",
    "titles_location=driver.find_elements_by_xpath('//li[@class=\"fleft grey-text br2 placeHolderLi location\"]')\n",
    "titles_location\n",
    "titles_company=driver.find_elements_by_xpath('//a[@class=\"subTitle ellipsis fleft\"]')\n",
    "titles_company\n",
    "titles_experience=driver.find_elements_by_xpath('//li[@class=\"fleft grey-text br2 placeHolderLi experience\"]')\n",
    "titles_experience \n",
    "\n",
    "job_titles=[]\n",
    "job_location=[]\n",
    "company_name=[]\n",
    "experience_req=[]\n",
    "for i in range(10):\n",
    "    \n",
    "    job_titles.append(titles_job[i].text)\n",
    "    job_location.append(titles_location[i].text)\n",
    "    company_name.append(titles_company[i].text)\n",
    "    experience_req.append(titles_experience[i].text)\n",
    "job_titles\n",
    "job_location                                             \n",
    "company_name\n",
    "experience_req\n",
    "\n",
    "import pandas as pd\n",
    "data=pd.DataFrame({})\n",
    "data['titles_job']=job_titles\n",
    "data['titles_location']=job_location\n",
    "data['titles_company']=company_name\n",
    "data['titles_experience']=experience_req\n",
    "data"
   ]
  },
  {
   "cell_type": "code",
   "execution_count": null,
   "id": "c1772bb8",
   "metadata": {},
   "outputs": [],
   "source": [
    "#Q4: Write a python program to scrape data for first 10 job results for Data scientist\n",
    "# Designation in Noida location. You have to scrape company_name, No. of days\n",
    "# ago when job was posted, Rating of the company."
   ]
  },
  {
   "cell_type": "code",
   "execution_count": null,
   "id": "fb16e21b",
   "metadata": {},
   "outputs": [],
   "source": [
    "driver=webdriver.Chrome(\"chromedriver.exe\")\n",
    "url='https://www.glassdoor.co.in/index.htm'\n",
    "driver.get(url)    \n",
    "time.sleep(3)"
   ]
  },
  {
   "cell_type": "code",
   "execution_count": null,
   "id": "19a4d4dd",
   "metadata": {},
   "outputs": [],
   "source": [
    "# Q5:Write a python program to scrape the salary data for Data Scientist designation\n",
    "# in Noida location."
   ]
  },
  {
   "cell_type": "code",
   "execution_count": null,
   "id": "f1a02997",
   "metadata": {},
   "outputs": [],
   "source": []
  },
  {
   "cell_type": "code",
   "execution_count": null,
   "id": "66a82732",
   "metadata": {},
   "outputs": [],
   "source": []
  },
  {
   "cell_type": "code",
   "execution_count": null,
   "id": "cf3b7f53",
   "metadata": {},
   "outputs": [],
   "source": []
  },
  {
   "cell_type": "code",
   "execution_count": null,
   "id": "0b04a088",
   "metadata": {},
   "outputs": [],
   "source": []
  },
  {
   "cell_type": "code",
   "execution_count": null,
   "id": "c7a3352b",
   "metadata": {},
   "outputs": [],
   "source": []
  },
  {
   "cell_type": "code",
   "execution_count": null,
   "id": "45852de9",
   "metadata": {},
   "outputs": [],
   "source": []
  },
  {
   "cell_type": "code",
   "execution_count": null,
   "id": "56113941",
   "metadata": {},
   "outputs": [],
   "source": []
  },
  {
   "cell_type": "code",
   "execution_count": null,
   "id": "ec95fcf3",
   "metadata": {},
   "outputs": [],
   "source": []
  }
 ],
 "metadata": {
  "kernelspec": {
   "display_name": "Python 3",
   "language": "python",
   "name": "python3"
  },
  "language_info": {
   "codemirror_mode": {
    "name": "ipython",
    "version": 3
   },
   "file_extension": ".py",
   "mimetype": "text/x-python",
   "name": "python",
   "nbconvert_exporter": "python",
   "pygments_lexer": "ipython3",
   "version": "3.9.4"
  }
 },
 "nbformat": 4,
 "nbformat_minor": 5
}
